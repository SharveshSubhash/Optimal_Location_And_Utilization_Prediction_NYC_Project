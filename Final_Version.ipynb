{
  "nbformat": 4,
  "nbformat_minor": 0,
  "metadata": {
    "colab": {
      "provenance": [],
      "gpuType": "T4"
    },
    "kernelspec": {
      "name": "python3",
      "display_name": "Python 3"
    },
    "language_info": {
      "name": "python"
    },
    "accelerator": "GPU"
  },
  "cells": [
    {
      "cell_type": "code",
      "source": [
        "!pip install geopy osmnx folium"
      ],
      "metadata": {
        "colab": {
          "base_uri": "https://localhost:8080/"
        },
        "id": "a2YMEqYCpB0r",
        "outputId": "9ea3b757-87f6-4a3d-8cee-8f4fea5571ad"
      },
      "execution_count": null,
      "outputs": [
        {
          "output_type": "stream",
          "name": "stdout",
          "text": [
            "Requirement already satisfied: geopy in /usr/local/lib/python3.10/dist-packages (2.3.0)\n",
            "Collecting osmnx\n",
            "  Downloading osmnx-1.9.3-py3-none-any.whl (107 kB)\n",
            "\u001b[2K     \u001b[90m━━━━━━━━━━━━━━━━━━━━━━━━━━━━━━━━━━━━━━━━\u001b[0m \u001b[32m107.2/107.2 kB\u001b[0m \u001b[31m3.5 MB/s\u001b[0m eta \u001b[36m0:00:00\u001b[0m\n",
            "\u001b[?25hRequirement already satisfied: folium in /usr/local/lib/python3.10/dist-packages (0.14.0)\n",
            "Requirement already satisfied: geographiclib<3,>=1.52 in /usr/local/lib/python3.10/dist-packages (from geopy) (2.0)\n",
            "Requirement already satisfied: geopandas>=0.12 in /usr/local/lib/python3.10/dist-packages (from osmnx) (0.13.2)\n",
            "Requirement already satisfied: networkx>=2.5 in /usr/local/lib/python3.10/dist-packages (from osmnx) (3.3)\n",
            "Requirement already satisfied: numpy>=1.20 in /usr/local/lib/python3.10/dist-packages (from osmnx) (1.25.2)\n",
            "Requirement already satisfied: pandas>=1.1 in /usr/local/lib/python3.10/dist-packages (from osmnx) (2.0.3)\n",
            "Requirement already satisfied: requests>=2.27 in /usr/local/lib/python3.10/dist-packages (from osmnx) (2.31.0)\n",
            "Requirement already satisfied: shapely>=2.0 in /usr/local/lib/python3.10/dist-packages (from osmnx) (2.0.5)\n",
            "Requirement already satisfied: branca>=0.6.0 in /usr/local/lib/python3.10/dist-packages (from folium) (0.7.2)\n",
            "Requirement already satisfied: jinja2>=2.9 in /usr/local/lib/python3.10/dist-packages (from folium) (3.1.4)\n",
            "Requirement already satisfied: fiona>=1.8.19 in /usr/local/lib/python3.10/dist-packages (from geopandas>=0.12->osmnx) (1.9.6)\n",
            "Requirement already satisfied: packaging in /usr/local/lib/python3.10/dist-packages (from geopandas>=0.12->osmnx) (24.1)\n",
            "Requirement already satisfied: pyproj>=3.0.1 in /usr/local/lib/python3.10/dist-packages (from geopandas>=0.12->osmnx) (3.6.1)\n",
            "Requirement already satisfied: MarkupSafe>=2.0 in /usr/local/lib/python3.10/dist-packages (from jinja2>=2.9->folium) (2.1.5)\n",
            "Requirement already satisfied: python-dateutil>=2.8.2 in /usr/local/lib/python3.10/dist-packages (from pandas>=1.1->osmnx) (2.8.2)\n",
            "Requirement already satisfied: pytz>=2020.1 in /usr/local/lib/python3.10/dist-packages (from pandas>=1.1->osmnx) (2023.4)\n",
            "Requirement already satisfied: tzdata>=2022.1 in /usr/local/lib/python3.10/dist-packages (from pandas>=1.1->osmnx) (2024.1)\n",
            "Requirement already satisfied: charset-normalizer<4,>=2 in /usr/local/lib/python3.10/dist-packages (from requests>=2.27->osmnx) (3.3.2)\n",
            "Requirement already satisfied: idna<4,>=2.5 in /usr/local/lib/python3.10/dist-packages (from requests>=2.27->osmnx) (3.7)\n",
            "Requirement already satisfied: urllib3<3,>=1.21.1 in /usr/local/lib/python3.10/dist-packages (from requests>=2.27->osmnx) (2.0.7)\n",
            "Requirement already satisfied: certifi>=2017.4.17 in /usr/local/lib/python3.10/dist-packages (from requests>=2.27->osmnx) (2024.7.4)\n",
            "Requirement already satisfied: attrs>=19.2.0 in /usr/local/lib/python3.10/dist-packages (from fiona>=1.8.19->geopandas>=0.12->osmnx) (23.2.0)\n",
            "Requirement already satisfied: click~=8.0 in /usr/local/lib/python3.10/dist-packages (from fiona>=1.8.19->geopandas>=0.12->osmnx) (8.1.7)\n",
            "Requirement already satisfied: click-plugins>=1.0 in /usr/local/lib/python3.10/dist-packages (from fiona>=1.8.19->geopandas>=0.12->osmnx) (1.1.1)\n",
            "Requirement already satisfied: cligj>=0.5 in /usr/local/lib/python3.10/dist-packages (from fiona>=1.8.19->geopandas>=0.12->osmnx) (0.7.2)\n",
            "Requirement already satisfied: six in /usr/local/lib/python3.10/dist-packages (from fiona>=1.8.19->geopandas>=0.12->osmnx) (1.16.0)\n",
            "Installing collected packages: osmnx\n",
            "Successfully installed osmnx-1.9.3\n"
          ]
        }
      ]
    },
    {
      "cell_type": "code",
      "source": [
        "!pip install haversine"
      ],
      "metadata": {
        "colab": {
          "base_uri": "https://localhost:8080/"
        },
        "id": "yEULFfMbWcsv",
        "outputId": "e8e0ace8-634a-47f7-f739-1d9f310d3598"
      },
      "execution_count": null,
      "outputs": [
        {
          "output_type": "stream",
          "name": "stdout",
          "text": [
            "Collecting haversine\n",
            "  Downloading haversine-2.8.1-py2.py3-none-any.whl (7.7 kB)\n",
            "Installing collected packages: haversine\n",
            "Successfully installed haversine-2.8.1\n"
          ]
        }
      ]
    },
    {
      "cell_type": "code",
      "source": [
        "!pip install numba"
      ],
      "metadata": {
        "colab": {
          "base_uri": "https://localhost:8080/"
        },
        "id": "8vJ5a9GDTIQY",
        "outputId": "5bcd882f-17e7-4f30-85c2-263dee7d2ea1"
      },
      "execution_count": null,
      "outputs": [
        {
          "output_type": "stream",
          "name": "stdout",
          "text": [
            "Requirement already satisfied: numba in /usr/local/lib/python3.10/dist-packages (0.58.1)\n",
            "Requirement already satisfied: llvmlite<0.42,>=0.41.0dev0 in /usr/local/lib/python3.10/dist-packages (from numba) (0.41.1)\n",
            "Requirement already satisfied: numpy<1.27,>=1.22 in /usr/local/lib/python3.10/dist-packages (from numba) (1.25.2)\n"
          ]
        }
      ]
    },
    {
      "cell_type": "markdown",
      "source": [
        "#Final Version before 1st meeting with Director"
      ],
      "metadata": {
        "id": "qKy1os5volss"
      }
    },
    {
      "cell_type": "code",
      "source": [
        "import pandas as pd\n",
        "import numba\n",
        "import numpy as np\n",
        "import geopandas as gpd\n",
        "from shapely import wkt\n",
        "from shapely.geometry import Point\n",
        "from sklearn.cluster import DBSCAN, AgglomerativeClustering\n",
        "from haversine import haversine, Unit\n",
        "from sklearn.neighbors import NearestNeighbors\n",
        "from sklearn.ensemble import GradientBoostingRegressor\n",
        "from sklearn.model_selection import train_test_split, GridSearchCV\n",
        "from sklearn.metrics import mean_squared_error\n",
        "import folium\n",
        "import osmnx as ox\n",
        "\n",
        "# Load the hydrography data from the CSV file\n",
        "file_path = '/content/NYC_Planimetric_Database__Hydrography_20240722.csv'\n",
        "hydrography_df = pd.read_csv(file_path)\n",
        "\n",
        "# Convert the 'the_geom' column to geometric data\n",
        "hydrography_df['geometry'] = hydrography_df['the_geom'].apply(wkt.loads)\n",
        "hydrography_gdf = gpd.GeoDataFrame(hydrography_df, geometry='geometry')\n",
        "\n",
        "# Load data for EV station prediction\n",
        "stations_df = pd.read_excel('/content/NYC_Stations.xlsx')\n",
        "sessions_df = pd.read_csv('/content/Charging_Sessions_Dataset.csv')\n",
        "trips_df = pd.read_csv('/content/Valid_Synthetic_Vehicle_Trips_NYC_minutes.csv')\n",
        "\n",
        "# Compute station usage\n",
        "station_usage = sessions_df['ChargingStationID'].value_counts().reset_index()\n",
        "station_usage.columns = ['ChargingStationID', 'SessionCount']\n",
        "stations_usage_df = pd.merge(station_usage, stations_df, left_on='ChargingStationID', right_on='ID')\n",
        "\n",
        "# Extract trip locations\n",
        "trip_locations = pd.concat([\n",
        "    trips_df[['Start_Location(lat)', 'Start_Location(long)']].rename(columns={'Start_Location(lat)': 'lat', 'Start_Location(long)': 'long'}),\n",
        "    trips_df[['Stop_Location(lat)', 'Stop_Location(long)']].rename(columns={'Stop_Location(lat)': 'lat', 'Stop_Location(long)': 'long'})\n",
        "])\n",
        "\n",
        "# Create high demand locations\n",
        "high_demand_locations = trip_locations.copy()\n",
        "temp_df_list = []\n",
        "for _, row in stations_usage_df.iterrows():\n",
        "    temp_df = pd.DataFrame({'lat': [row['Latitude']] * row['SessionCount'],\n",
        "                           'long': [row['Longitude']] * row['SessionCount']})\n",
        "    temp_df_list.append(temp_df)\n",
        "high_demand_locations = pd.concat([high_demand_locations] + temp_df_list, ignore_index=True)\n",
        "\n",
        "# Downsample data if too large\n",
        "if len(high_demand_locations) > 100000:  # Adjust threshold based on available memory\n",
        "    high_demand_locations = high_demand_locations.sample(n=100000, random_state=42)\n",
        "\n",
        "# Convert coordinates to radians for haversine calculation\n",
        "high_demand_locations['lat_rad'] = np.radians(high_demand_locations['lat'])\n",
        "high_demand_locations['long_rad'] = np.radians(high_demand_locations['long'])\n",
        "\n",
        "# Define a function to calculate haversine distance matrix\n",
        "def haversine_distance_matrix(coords):\n",
        "    dist_matrix = np.zeros((len(coords), len(coords)))\n",
        "    for i in range(len(coords)):\n",
        "        for j in range(i + 1, len(coords)):\n",
        "            dist_matrix[i, j] = dist_matrix[j, i] = haversine((coords[i][0], coords[i][1]), (coords[j][0], coords[j][1]), unit=Unit.KILOMETERS)\n",
        "    return dist_matrix\n",
        "\n",
        "# Prepare coordinates for DBSCAN\n",
        "coords = high_demand_locations[['lat', 'long']].values\n",
        "\n",
        "# Use NearestNeighbors to find appropriate eps value\n",
        "neighbors = NearestNeighbors(n_neighbors=5, metric='haversine').fit(np.radians(coords))\n",
        "distances, _ = neighbors.kneighbors(np.radians(coords))\n",
        "distances = np.sort(distances[:, 4])\n",
        "\n",
        "# Use the median of the distances as eps value\n",
        "eps = np.median(distances)\n",
        "\n",
        "# Perform DBSCAN clustering with tuned parameters\n",
        "db = DBSCAN(eps=eps * 2, min_samples=5, metric='haversine')  # Adjusted eps and min_samples\n",
        "high_demand_locations['Cluster'] = db.fit_predict(np.radians(coords))\n",
        "\n",
        "# Calculate cluster centers\n",
        "cluster_centers = high_demand_locations[high_demand_locations['Cluster'] != -1].groupby('Cluster')[['lat', 'long']].mean().reset_index()\n",
        "\n",
        "# Post-process to merge nearby clusters\n",
        "def merge_clusters(cluster_centers, threshold_km):\n",
        "    cluster_coords = cluster_centers[['lat', 'long']].values\n",
        "    distance_matrix = haversine_distance_matrix(cluster_coords)\n",
        "    agglo = AgglomerativeClustering(n_clusters=None, distance_threshold=threshold_km, affinity='precomputed', linkage='complete')\n",
        "    cluster_labels = agglo.fit_predict(distance_matrix)\n",
        "    cluster_centers['MergedCluster'] = cluster_labels\n",
        "    merged_centers = cluster_centers.groupby('MergedCluster')[['lat', 'long']].mean().reset_index()\n",
        "    return merged_centers\n",
        "\n",
        "# Merge clusters with a threshold of 5 km\n",
        "merged_cluster_centers = merge_clusters(cluster_centers, threshold_km=5)\n",
        "\n",
        "gdf_cluster_centers = gpd.GeoDataFrame(merged_cluster_centers, geometry=gpd.points_from_xy(merged_cluster_centers.long, merged_cluster_centers.lat), crs=\"EPSG:4326\")\n",
        "\n",
        "valid_cluster_centers = gpd.sjoin(gdf_cluster_centers, hydrography_gdf, how=\"left\", op='within')\n",
        "valid_cluster_centers = valid_cluster_centers[valid_cluster_centers.index_right.isna()]\n",
        "\n",
        "valid_cluster_centers_df = pd.DataFrame(valid_cluster_centers.drop(columns='geometry'))\n",
        "\n",
        "def snap_to_road(lat, lon):\n",
        "    point = Point(lon, lat)\n",
        "    graph = ox.graph_from_point((lat, lon), dist=1000, network_type='drive')\n",
        "    nearest_node = ox.distance.nearest_nodes(graph, point.x, point.y)\n",
        "    nearest_point = graph.nodes[nearest_node]\n",
        "    return nearest_point['y'], nearest_point['x']\n",
        "\n",
        "snapped_coords = []\n",
        "for _, row in valid_cluster_centers_df.iterrows():\n",
        "    lat, lon = row['lat'], row['long']\n",
        "    snapped_lat, snapped_lon = snap_to_road(lat, lon)\n",
        "    snapped_coords.append((snapped_lat, snapped_lon))\n",
        "\n",
        "# Update the valid cluster centers DataFrame with snapped coordinates\n",
        "valid_cluster_centers_df['snapped_lat'] = [coord[0] for coord in snapped_coords]\n",
        "valid_cluster_centers_df['snapped_long'] = [coord[1] for coord in snapped_coords]\n",
        "\n",
        "valid_cluster_centers_df['population_density'] = np.random.uniform(1000, 10000, len(valid_cluster_centers_df))\n",
        "valid_cluster_centers_df['proximity_to_poi'] = np.random.uniform(0, 5, len(valid_cluster_centers_df))  # Distance to nearest point of interest\n",
        "\n",
        "# Prepare the dataset for model training\n",
        "features = stations_usage_df[['Latitude', 'Longitude']].copy()\n",
        "features.rename(columns={'Latitude': 'snapped_lat', 'Longitude': 'snapped_long'}, inplace=True)\n",
        "features['population_density'] = np.random.uniform(1000, 10000, len(features))\n",
        "features['proximity_to_poi'] = np.random.uniform(0, 5, len(features))\n",
        "target = stations_usage_df['SessionCount']\n",
        "\n",
        "# Train-test split\n",
        "X_train, X_test, y_train, y_test = train_test_split(features, target, test_size=0.2, random_state=42)\n",
        "\n",
        "# Model training with Gradient Boosting Regressor\n",
        "model = GradientBoostingRegressor(random_state=42)\n",
        "param_grid = {\n",
        "    'n_estimators': [100, 200],\n",
        "    'learning_rate': [0.05, 0.1],\n",
        "    'max_depth': [3, 5]\n",
        "}\n",
        "grid_search = GridSearchCV(model, param_grid, cv=5, scoring='neg_mean_squared_error', n_jobs=-1)\n",
        "grid_search.fit(X_train, y_train)\n",
        "\n",
        "# Best model\n",
        "best_model = grid_search.best_estimator_\n",
        "\n",
        "# Predict session counts for new station locations\n",
        "new_station_locations = valid_cluster_centers_df[['snapped_lat', 'snapped_long', 'population_density', 'proximity_to_poi']]\n",
        "predicted_session_counts = best_model.predict(new_station_locations)\n",
        "new_station_locations['PredictedSessionCount'] = predicted_session_counts\n",
        "valid_cluster_centers_df['PredictedSessionCount'] = predicted_session_counts\n",
        "# Calculate evaluation metrics for each predicted location\n",
        "def evaluate_metrics_per_location():\n",
        "    metrics = []\n",
        "\n",
        "    for idx, row in valid_cluster_centers_df.iterrows():\n",
        "        lat, lon = row['lat'], row['long']\n",
        "        snapped_lat, snapped_lon = row['snapped_lat'], row['snapped_long']\n",
        "        session_count = row['PredictedSessionCount']\n",
        "        population_density = row['population_density']\n",
        "        proximity_to_poi = row['proximity_to_poi']\n",
        "\n",
        "        # Proximity to road network\n",
        "        road_distance = haversine((lat, lon), (snapped_lat, snapped_lon), unit=Unit.METERS)\n",
        "        # High-demand coverage\n",
        "        high_demand_coverage = 0\n",
        "        for _, trip in trip_locations.iterrows():\n",
        "            if haversine((trip['lat'], trip['long']), (snapped_lat, snapped_lon), unit=Unit.KILOMETERS) <= 1:\n",
        "                high_demand_coverage += 1\n",
        "\n",
        "        # Append metrics for this location\n",
        "        metrics.append({\n",
        "            'lat': snapped_lat,\n",
        "            'long': snapped_lon,\n",
        "            'PredictedSessionCount': session_count,\n",
        "            'PopulationDensity': population_density,\n",
        "            'ProximityToPOI': proximity_to_poi,\n",
        "            'MainRoadDistance(m)': road_distance,\n",
        "            'HighDemandCoverage': high_demand_coverage / len(trip_locations) * 100\n",
        "        })\n",
        "\n",
        "    return pd.DataFrame(metrics)\n",
        "\n",
        "# Calculate metrics for each location\n",
        "location_metrics_df = evaluate_metrics_per_location()\n",
        "\n",
        "# Display metrics for each location\n",
        "print(location_metrics_df)\n",
        "\n",
        "# Visualization\n",
        "def visualize_locations(new_stations_gdf, old_stations_gdf, trips_location):\n",
        "    # Create a folium map centered around NYC\n",
        "    m = folium.Map(location=[40.7128, -74.0060], zoom_start=12)\n",
        "\n",
        "    # Add EV station locations\n",
        "    for _, row in new_stations_gdf.iterrows():\n",
        "        popup_text = (f\"Predicted Session Count: {row['PredictedSessionCount']:.0f}<br>\"\n",
        "                      f\"Population Density: {row['PopulationDensity']:.0f}<br>\"\n",
        "                      f\"Proximity to POI: {row['ProximityToPOI']:.2f} km<br>\"\n",
        "                      f\"Distance to Road: {row['MainRoadDistance(m)']:.2f} m<br>\"\n",
        "                      f\"High-Demand Coverage: {row['HighDemandCoverage']:.2f}%\")\n",
        "        folium.Marker(\n",
        "            location=[row['lat'], row['long']],\n",
        "            popup=popup_text,\n",
        "            icon=folium.Icon(color='red', icon='info-sign')\n",
        "        ).add_to(m)\n",
        "\n",
        "            # Add EV station locations\n",
        "    random_df = old_stations_gdf.sample(n=50)\n",
        "    for _, row in random_df.iterrows():\n",
        "        popup_text = (f\"Session Count: {row['SessionCount']:.0f}<br>\")\n",
        "        folium.Marker(\n",
        "            location=[row['Latitude'], row['Longitude']],\n",
        "            popup=popup_text,\n",
        "            icon=folium.Icon(color='blue', icon='info-sign')\n",
        "        ).add_to(m)\n",
        "\n",
        "    # Add high demand areas\n",
        "    for _, row in trips_location.iterrows():\n",
        "        folium.Circle(\n",
        "            location=[row['lat'], row['long']],\n",
        "            radius=10,  # 10 meters\n",
        "            color='orange',\n",
        "            fill=True,\n",
        "            fill_color='orange',\n",
        "            fill_opacity=0.2\n",
        "        ).add_to(m)\n",
        "\n",
        "    \"\"\"# Add road network\n",
        "    for _, row in roads_gdf.iterrows():\n",
        "        folium.PolyLine(\n",
        "            locations=[(point.y, point.x) for point in row['geometry'].coords],\n",
        "            color='green'\n",
        "        ).add_to(m)\"\"\"\n",
        "\n",
        "    return m\n",
        "\n",
        "# Create GeoDataFrame for roads\n",
        "#roads_gdf = ox.graph_to_gdfs(ox.graph_from_place('New York City, New York, USA', network_type='all'), nodes=False)\n",
        "\n",
        "# Visualize the results\n",
        "visualization = visualize_locations(location_metrics_df, stations_usage_df, trip_locations)\n",
        "visualization.save('EV_Station_Visualization_5.html')\n",
        "\n",
        "print(\"Visualization saved to 'EV_Station_Visualization.html'\")\n"
      ],
      "metadata": {
        "id": "iST-s6FzmQtu"
      },
      "execution_count": null,
      "outputs": []
    },
    {
      "cell_type": "code",
      "source": [
        "print(type(numba))"
      ],
      "metadata": {
        "colab": {
          "base_uri": "https://localhost:8080/"
        },
        "id": "fN1WQs0NTXuC",
        "outputId": "049c7028-e2f3-4368-84bc-7dcb72382e88"
      },
      "execution_count": null,
      "outputs": [
        {
          "output_type": "stream",
          "name": "stdout",
          "text": [
            "<class 'module'>\n"
          ]
        }
      ]
    },
    {
      "cell_type": "code",
      "source": [
        "def visualize_locations(new_stations_gdf, old_stations_gdf, trips_location):\n",
        "    # Create a folium map centered around NYC\n",
        "    m = folium.Map(location=[40.7128, -74.0060], zoom_start=12)\n",
        "\n",
        "    # Add EV station locations\n",
        "    for _, row in new_stations_gdf.iterrows():\n",
        "        popup_text = (f\"Predicted Session Count: {row['PredictedSessionCount']:.0f}<br>\"\n",
        "                      f\"Population Density: {row['PopulationDensity']:.0f}<br>\"\n",
        "                      f\"Proximity to POI: {row['ProximityToPOI']:.2f} km<br>\"\n",
        "                      f\"Distance to Road: {row['MainRoadDistance(m)']:.2f} m<br>\"\n",
        "                      f\"High-Demand Coverage: {row['HighDemandCoverage']:.2f}%\")\n",
        "        folium.Marker(\n",
        "            location=[row['lat'], row['long']],\n",
        "            popup=popup_text,\n",
        "            icon=folium.Icon(color='red', icon='info-sign')\n",
        "        ).add_to(m)\n",
        "\n",
        "            # Add EV station locations\n",
        "    random_df = old_stations_gdf.sample(n=50)\n",
        "    for _, row in random_df.iterrows():\n",
        "        popup_text = (f\"Session Count: {row['SessionCount']:.0f}<br>\")\n",
        "        folium.Marker(\n",
        "            location=[row['Latitude'], row['Longitude']],\n",
        "            popup=popup_text,\n",
        "            icon=folium.Icon(color='blue', icon='info-sign')\n",
        "        ).add_to(m)\n",
        "\n",
        "    # Add high demand areas\n",
        "    for _, row in trips_location.iterrows():\n",
        "        folium.Circle(\n",
        "            location=[row['lat'], row['long']],\n",
        "            radius=10,  # 10 meters\n",
        "            color='blue',\n",
        "            fill=True,\n",
        "            fill_color='blue',\n",
        "            fill_opacity=0.2\n",
        "        ).add_to(m)\n",
        "\n",
        "    \"\"\"# Add road network\n",
        "    for _, row in roads_gdf.iterrows():\n",
        "        folium.PolyLine(\n",
        "            locations=[(point.y, point.x) for point in row['geometry'].coords],\n",
        "            color='green'\n",
        "        ).add_to(m)\"\"\"\n",
        "\n",
        "    return m\n",
        "\n",
        "# Create GeoDataFrame for roads\n",
        "#roads_gdf = ox.graph_to_gdfs(ox.graph_from_place('New York City, New York, USA', network_type='all'), nodes=False)\n",
        "\n",
        "# Visualize the results\n",
        "visualization = visualize_locations(location_metrics_df, stations_usage_df, trip_locations)\n",
        "visualization.save('EV_Station_Visualization_5.html')\n",
        "\n",
        "print(\"Visualization saved to 'EV_Station_Visualization.html'\")\n"
      ],
      "metadata": {
        "colab": {
          "base_uri": "https://localhost:8080/"
        },
        "id": "ZdxkheZ5eUr0",
        "outputId": "9b567d50-c327-4d55-fabe-164b816db25a"
      },
      "execution_count": null,
      "outputs": [
        {
          "output_type": "stream",
          "name": "stdout",
          "text": [
            "Visualization saved to 'EV_Station_Visualization.html'\n"
          ]
        }
      ]
    },
    {
      "cell_type": "code",
      "source": [
        "new_station_locations.to_csv(\"Predicted_station_locations.csv\")\n"
      ],
      "metadata": {
        "id": "HIgzP6g6d-S-"
      },
      "execution_count": null,
      "outputs": []
    },
    {
      "cell_type": "code",
      "source": [
        "new_station_locations.columns"
      ],
      "metadata": {
        "colab": {
          "base_uri": "https://localhost:8080/"
        },
        "id": "yVIYtaNq9HaH",
        "outputId": "bc83034a-f85c-4184-a947-c5cd4e8ee7cd"
      },
      "execution_count": null,
      "outputs": [
        {
          "output_type": "execute_result",
          "data": {
            "text/plain": [
              "Index(['snapped_lat', 'snapped_long', 'population_density', 'proximity_to_poi',\n",
              "       'PredictedSessionCount'],\n",
              "      dtype='object')"
            ]
          },
          "metadata": {},
          "execution_count": 10
        }
      ]
    },
    {
      "cell_type": "code",
      "source": [
        "trip_locations.columns"
      ],
      "metadata": {
        "colab": {
          "base_uri": "https://localhost:8080/"
        },
        "id": "T3uNGKYH9Ljk",
        "outputId": "8c7e28e5-5933-44f1-abc5-980b59777d42"
      },
      "execution_count": null,
      "outputs": [
        {
          "output_type": "execute_result",
          "data": {
            "text/plain": [
              "Index(['lat', 'long'], dtype='object')"
            ]
          },
          "metadata": {},
          "execution_count": 11
        }
      ]
    },
    {
      "cell_type": "code",
      "source": [
        "trip_locations.to_csv(\"trips_locations.csv\")"
      ],
      "metadata": {
        "id": "ZiOmnv3b9Tzv"
      },
      "execution_count": null,
      "outputs": []
    },
    {
      "cell_type": "code",
      "source": [
        "stations_usage_df.columns"
      ],
      "metadata": {
        "colab": {
          "base_uri": "https://localhost:8080/"
        },
        "id": "f2mxHNxeDS-Q",
        "outputId": "90e8e40f-4d56-4209-b741-bb6dbbed505c"
      },
      "execution_count": null,
      "outputs": [
        {
          "output_type": "execute_result",
          "data": {
            "text/plain": [
              "Index(['ChargingStationID', 'SessionCount', 'Fuel Type Code', 'Station Name',\n",
              "       'Street Address', 'City', 'State', 'ZIP', 'EV Level2 EVSE Num',\n",
              "       'EV DC Fast Count', 'EV Network', 'EV Network Web', 'Geocode Status',\n",
              "       'Latitude', 'Longitude', 'ID', 'EV Connector Types'],\n",
              "      dtype='object')"
            ]
          },
          "metadata": {},
          "execution_count": 25
        }
      ]
    },
    {
      "cell_type": "code",
      "source": [
        "valid_cluster_centers_df.columns"
      ],
      "metadata": {
        "colab": {
          "base_uri": "https://localhost:8080/"
        },
        "id": "oWd7mHnI_A_k",
        "outputId": "833652f2-fa25-4fdd-9c06-683ec782871c"
      },
      "execution_count": null,
      "outputs": [
        {
          "output_type": "execute_result",
          "data": {
            "text/plain": [
              "Index(['MergedCluster', 'lat', 'long', 'index_right', 'the_geom', 'NAME',\n",
              "       'SOURCE_ID', 'FEAT_CODE', 'SUB_CODE', 'STATUS', 'SHAPE_Leng',\n",
              "       'SHAPE_Area', 'snapped_lat', 'snapped_long', 'population_density',\n",
              "       'proximity_to_poi'],\n",
              "      dtype='object')"
            ]
          },
          "metadata": {},
          "execution_count": 22
        }
      ]
    },
    {
      "cell_type": "code",
      "source": [
        "valid_cluster_centers_df.columns"
      ],
      "metadata": {
        "colab": {
          "base_uri": "https://localhost:8080/"
        },
        "id": "bQsJ_kfY-VQU",
        "outputId": "21c7f17e-0856-4f49-90be-80342a213281"
      },
      "execution_count": null,
      "outputs": [
        {
          "output_type": "execute_result",
          "data": {
            "text/plain": [
              "Index(['MergedCluster', 'lat', 'long', 'index_right', 'the_geom', 'NAME',\n",
              "       'SOURCE_ID', 'FEAT_CODE', 'SUB_CODE', 'STATUS', 'SHAPE_Leng',\n",
              "       'SHAPE_Area', 'snapped_lat', 'snapped_long', 'population_density',\n",
              "       'proximity_to_poi'],\n",
              "      dtype='object')"
            ]
          },
          "metadata": {},
          "execution_count": 18
        }
      ]
    },
    {
      "cell_type": "code",
      "source": [
        "features.head()"
      ],
      "metadata": {
        "colab": {
          "base_uri": "https://localhost:8080/",
          "height": 206
        },
        "id": "g31oDfesrc-J",
        "outputId": "158a8646-8e6b-4320-ac85-65e7fcc5a390"
      },
      "execution_count": null,
      "outputs": [
        {
          "output_type": "execute_result",
          "data": {
            "text/plain": [
              "   snapped_lat  snapped_long  population_density  proximity_to_poi\n",
              "0    40.719869    -74.007447         1418.516196          0.859361\n",
              "1    40.763510    -73.979364         4136.035054          0.250075\n",
              "2    40.772904    -73.992514         3825.249974          1.165500\n",
              "3    40.788008    -73.971611         2843.250888          1.764943\n",
              "4    40.714177    -74.016332         3105.193108          1.364406"
            ],
            "text/html": [
              "\n",
              "  <div id=\"df-8ba73674-5d75-49e5-9210-7015d1df0c93\" class=\"colab-df-container\">\n",
              "    <div>\n",
              "<style scoped>\n",
              "    .dataframe tbody tr th:only-of-type {\n",
              "        vertical-align: middle;\n",
              "    }\n",
              "\n",
              "    .dataframe tbody tr th {\n",
              "        vertical-align: top;\n",
              "    }\n",
              "\n",
              "    .dataframe thead th {\n",
              "        text-align: right;\n",
              "    }\n",
              "</style>\n",
              "<table border=\"1\" class=\"dataframe\">\n",
              "  <thead>\n",
              "    <tr style=\"text-align: right;\">\n",
              "      <th></th>\n",
              "      <th>snapped_lat</th>\n",
              "      <th>snapped_long</th>\n",
              "      <th>population_density</th>\n",
              "      <th>proximity_to_poi</th>\n",
              "    </tr>\n",
              "  </thead>\n",
              "  <tbody>\n",
              "    <tr>\n",
              "      <th>0</th>\n",
              "      <td>40.719869</td>\n",
              "      <td>-74.007447</td>\n",
              "      <td>1418.516196</td>\n",
              "      <td>0.859361</td>\n",
              "    </tr>\n",
              "    <tr>\n",
              "      <th>1</th>\n",
              "      <td>40.763510</td>\n",
              "      <td>-73.979364</td>\n",
              "      <td>4136.035054</td>\n",
              "      <td>0.250075</td>\n",
              "    </tr>\n",
              "    <tr>\n",
              "      <th>2</th>\n",
              "      <td>40.772904</td>\n",
              "      <td>-73.992514</td>\n",
              "      <td>3825.249974</td>\n",
              "      <td>1.165500</td>\n",
              "    </tr>\n",
              "    <tr>\n",
              "      <th>3</th>\n",
              "      <td>40.788008</td>\n",
              "      <td>-73.971611</td>\n",
              "      <td>2843.250888</td>\n",
              "      <td>1.764943</td>\n",
              "    </tr>\n",
              "    <tr>\n",
              "      <th>4</th>\n",
              "      <td>40.714177</td>\n",
              "      <td>-74.016332</td>\n",
              "      <td>3105.193108</td>\n",
              "      <td>1.364406</td>\n",
              "    </tr>\n",
              "  </tbody>\n",
              "</table>\n",
              "</div>\n",
              "    <div class=\"colab-df-buttons\">\n",
              "\n",
              "  <div class=\"colab-df-container\">\n",
              "    <button class=\"colab-df-convert\" onclick=\"convertToInteractive('df-8ba73674-5d75-49e5-9210-7015d1df0c93')\"\n",
              "            title=\"Convert this dataframe to an interactive table.\"\n",
              "            style=\"display:none;\">\n",
              "\n",
              "  <svg xmlns=\"http://www.w3.org/2000/svg\" height=\"24px\" viewBox=\"0 -960 960 960\">\n",
              "    <path d=\"M120-120v-720h720v720H120Zm60-500h600v-160H180v160Zm220 220h160v-160H400v160Zm0 220h160v-160H400v160ZM180-400h160v-160H180v160Zm440 0h160v-160H620v160ZM180-180h160v-160H180v160Zm440 0h160v-160H620v160Z\"/>\n",
              "  </svg>\n",
              "    </button>\n",
              "\n",
              "  <style>\n",
              "    .colab-df-container {\n",
              "      display:flex;\n",
              "      gap: 12px;\n",
              "    }\n",
              "\n",
              "    .colab-df-convert {\n",
              "      background-color: #E8F0FE;\n",
              "      border: none;\n",
              "      border-radius: 50%;\n",
              "      cursor: pointer;\n",
              "      display: none;\n",
              "      fill: #1967D2;\n",
              "      height: 32px;\n",
              "      padding: 0 0 0 0;\n",
              "      width: 32px;\n",
              "    }\n",
              "\n",
              "    .colab-df-convert:hover {\n",
              "      background-color: #E2EBFA;\n",
              "      box-shadow: 0px 1px 2px rgba(60, 64, 67, 0.3), 0px 1px 3px 1px rgba(60, 64, 67, 0.15);\n",
              "      fill: #174EA6;\n",
              "    }\n",
              "\n",
              "    .colab-df-buttons div {\n",
              "      margin-bottom: 4px;\n",
              "    }\n",
              "\n",
              "    [theme=dark] .colab-df-convert {\n",
              "      background-color: #3B4455;\n",
              "      fill: #D2E3FC;\n",
              "    }\n",
              "\n",
              "    [theme=dark] .colab-df-convert:hover {\n",
              "      background-color: #434B5C;\n",
              "      box-shadow: 0px 1px 3px 1px rgba(0, 0, 0, 0.15);\n",
              "      filter: drop-shadow(0px 1px 2px rgba(0, 0, 0, 0.3));\n",
              "      fill: #FFFFFF;\n",
              "    }\n",
              "  </style>\n",
              "\n",
              "    <script>\n",
              "      const buttonEl =\n",
              "        document.querySelector('#df-8ba73674-5d75-49e5-9210-7015d1df0c93 button.colab-df-convert');\n",
              "      buttonEl.style.display =\n",
              "        google.colab.kernel.accessAllowed ? 'block' : 'none';\n",
              "\n",
              "      async function convertToInteractive(key) {\n",
              "        const element = document.querySelector('#df-8ba73674-5d75-49e5-9210-7015d1df0c93');\n",
              "        const dataTable =\n",
              "          await google.colab.kernel.invokeFunction('convertToInteractive',\n",
              "                                                    [key], {});\n",
              "        if (!dataTable) return;\n",
              "\n",
              "        const docLinkHtml = 'Like what you see? Visit the ' +\n",
              "          '<a target=\"_blank\" href=https://colab.research.google.com/notebooks/data_table.ipynb>data table notebook</a>'\n",
              "          + ' to learn more about interactive tables.';\n",
              "        element.innerHTML = '';\n",
              "        dataTable['output_type'] = 'display_data';\n",
              "        await google.colab.output.renderOutput(dataTable, element);\n",
              "        const docLink = document.createElement('div');\n",
              "        docLink.innerHTML = docLinkHtml;\n",
              "        element.appendChild(docLink);\n",
              "      }\n",
              "    </script>\n",
              "  </div>\n",
              "\n",
              "\n",
              "<div id=\"df-7391b09c-a079-4e49-be98-151f82bd5caf\">\n",
              "  <button class=\"colab-df-quickchart\" onclick=\"quickchart('df-7391b09c-a079-4e49-be98-151f82bd5caf')\"\n",
              "            title=\"Suggest charts\"\n",
              "            style=\"display:none;\">\n",
              "\n",
              "<svg xmlns=\"http://www.w3.org/2000/svg\" height=\"24px\"viewBox=\"0 0 24 24\"\n",
              "     width=\"24px\">\n",
              "    <g>\n",
              "        <path d=\"M19 3H5c-1.1 0-2 .9-2 2v14c0 1.1.9 2 2 2h14c1.1 0 2-.9 2-2V5c0-1.1-.9-2-2-2zM9 17H7v-7h2v7zm4 0h-2V7h2v10zm4 0h-2v-4h2v4z\"/>\n",
              "    </g>\n",
              "</svg>\n",
              "  </button>\n",
              "\n",
              "<style>\n",
              "  .colab-df-quickchart {\n",
              "      --bg-color: #E8F0FE;\n",
              "      --fill-color: #1967D2;\n",
              "      --hover-bg-color: #E2EBFA;\n",
              "      --hover-fill-color: #174EA6;\n",
              "      --disabled-fill-color: #AAA;\n",
              "      --disabled-bg-color: #DDD;\n",
              "  }\n",
              "\n",
              "  [theme=dark] .colab-df-quickchart {\n",
              "      --bg-color: #3B4455;\n",
              "      --fill-color: #D2E3FC;\n",
              "      --hover-bg-color: #434B5C;\n",
              "      --hover-fill-color: #FFFFFF;\n",
              "      --disabled-bg-color: #3B4455;\n",
              "      --disabled-fill-color: #666;\n",
              "  }\n",
              "\n",
              "  .colab-df-quickchart {\n",
              "    background-color: var(--bg-color);\n",
              "    border: none;\n",
              "    border-radius: 50%;\n",
              "    cursor: pointer;\n",
              "    display: none;\n",
              "    fill: var(--fill-color);\n",
              "    height: 32px;\n",
              "    padding: 0;\n",
              "    width: 32px;\n",
              "  }\n",
              "\n",
              "  .colab-df-quickchart:hover {\n",
              "    background-color: var(--hover-bg-color);\n",
              "    box-shadow: 0 1px 2px rgba(60, 64, 67, 0.3), 0 1px 3px 1px rgba(60, 64, 67, 0.15);\n",
              "    fill: var(--button-hover-fill-color);\n",
              "  }\n",
              "\n",
              "  .colab-df-quickchart-complete:disabled,\n",
              "  .colab-df-quickchart-complete:disabled:hover {\n",
              "    background-color: var(--disabled-bg-color);\n",
              "    fill: var(--disabled-fill-color);\n",
              "    box-shadow: none;\n",
              "  }\n",
              "\n",
              "  .colab-df-spinner {\n",
              "    border: 2px solid var(--fill-color);\n",
              "    border-color: transparent;\n",
              "    border-bottom-color: var(--fill-color);\n",
              "    animation:\n",
              "      spin 1s steps(1) infinite;\n",
              "  }\n",
              "\n",
              "  @keyframes spin {\n",
              "    0% {\n",
              "      border-color: transparent;\n",
              "      border-bottom-color: var(--fill-color);\n",
              "      border-left-color: var(--fill-color);\n",
              "    }\n",
              "    20% {\n",
              "      border-color: transparent;\n",
              "      border-left-color: var(--fill-color);\n",
              "      border-top-color: var(--fill-color);\n",
              "    }\n",
              "    30% {\n",
              "      border-color: transparent;\n",
              "      border-left-color: var(--fill-color);\n",
              "      border-top-color: var(--fill-color);\n",
              "      border-right-color: var(--fill-color);\n",
              "    }\n",
              "    40% {\n",
              "      border-color: transparent;\n",
              "      border-right-color: var(--fill-color);\n",
              "      border-top-color: var(--fill-color);\n",
              "    }\n",
              "    60% {\n",
              "      border-color: transparent;\n",
              "      border-right-color: var(--fill-color);\n",
              "    }\n",
              "    80% {\n",
              "      border-color: transparent;\n",
              "      border-right-color: var(--fill-color);\n",
              "      border-bottom-color: var(--fill-color);\n",
              "    }\n",
              "    90% {\n",
              "      border-color: transparent;\n",
              "      border-bottom-color: var(--fill-color);\n",
              "    }\n",
              "  }\n",
              "</style>\n",
              "\n",
              "  <script>\n",
              "    async function quickchart(key) {\n",
              "      const quickchartButtonEl =\n",
              "        document.querySelector('#' + key + ' button');\n",
              "      quickchartButtonEl.disabled = true;  // To prevent multiple clicks.\n",
              "      quickchartButtonEl.classList.add('colab-df-spinner');\n",
              "      try {\n",
              "        const charts = await google.colab.kernel.invokeFunction(\n",
              "            'suggestCharts', [key], {});\n",
              "      } catch (error) {\n",
              "        console.error('Error during call to suggestCharts:', error);\n",
              "      }\n",
              "      quickchartButtonEl.classList.remove('colab-df-spinner');\n",
              "      quickchartButtonEl.classList.add('colab-df-quickchart-complete');\n",
              "    }\n",
              "    (() => {\n",
              "      let quickchartButtonEl =\n",
              "        document.querySelector('#df-7391b09c-a079-4e49-be98-151f82bd5caf button');\n",
              "      quickchartButtonEl.style.display =\n",
              "        google.colab.kernel.accessAllowed ? 'block' : 'none';\n",
              "    })();\n",
              "  </script>\n",
              "</div>\n",
              "\n",
              "    </div>\n",
              "  </div>\n"
            ],
            "application/vnd.google.colaboratory.intrinsic+json": {
              "type": "dataframe",
              "variable_name": "features",
              "summary": "{\n  \"name\": \"features\",\n  \"rows\": 374,\n  \"fields\": [\n    {\n      \"column\": \"snapped_lat\",\n      \"properties\": {\n        \"dtype\": \"number\",\n        \"std\": 0.15643366785724558,\n        \"min\": 40.527543,\n        \"max\": 42.864619,\n        \"num_unique_values\": 370,\n        \"samples\": [\n          40.765108,\n          40.717153,\n          40.79766\n        ],\n        \"semantic_type\": \"\",\n        \"description\": \"\"\n      }\n    },\n    {\n      \"column\": \"snapped_long\",\n      \"properties\": {\n        \"dtype\": \"number\",\n        \"std\": 0.15782838224613627,\n        \"min\": -76.980257,\n        \"max\": -73.770335,\n        \"num_unique_values\": 360,\n        \"samples\": [\n          -73.992868,\n          -73.98571,\n          -73.947198\n        ],\n        \"semantic_type\": \"\",\n        \"description\": \"\"\n      }\n    },\n    {\n      \"column\": \"population_density\",\n      \"properties\": {\n        \"dtype\": \"number\",\n        \"std\": 2557.1179011404947,\n        \"min\": 1006.622712808843,\n        \"max\": 9994.353272525732,\n        \"num_unique_values\": 374,\n        \"samples\": [\n          3193.0187481067705,\n          4929.335007801059,\n          5613.829503103971\n        ],\n        \"semantic_type\": \"\",\n        \"description\": \"\"\n      }\n    },\n    {\n      \"column\": \"proximity_to_poi\",\n      \"properties\": {\n        \"dtype\": \"number\",\n        \"std\": 1.4686867834094648,\n        \"min\": 0.011179799460677708,\n        \"max\": 4.999459447778067,\n        \"num_unique_values\": 374,\n        \"samples\": [\n          4.991461719751803,\n          3.4797682985338896,\n          4.680442412016194\n        ],\n        \"semantic_type\": \"\",\n        \"description\": \"\"\n      }\n    }\n  ]\n}"
            }
          },
          "metadata": {},
          "execution_count": 33
        }
      ]
    },
    {
      "cell_type": "code",
      "source": [
        "features.to_csv('Features_For_regression.csv', index=False)\n",
        "target.to_csv('Target_For_regression.csv', index=False)"
      ],
      "metadata": {
        "id": "_pfI1oe2rgDy"
      },
      "execution_count": null,
      "outputs": []
    },
    {
      "cell_type": "code",
      "source": [
        "features.shape"
      ],
      "metadata": {
        "colab": {
          "base_uri": "https://localhost:8080/"
        },
        "id": "UnVfa07lsESq",
        "outputId": "ed06bdc7-554c-479f-b1bb-483685847206"
      },
      "execution_count": null,
      "outputs": [
        {
          "output_type": "execute_result",
          "data": {
            "text/plain": [
              "(374, 4)"
            ]
          },
          "metadata": {},
          "execution_count": 17
        }
      ]
    },
    {
      "cell_type": "code",
      "source": [
        "trip_locations.columns"
      ],
      "metadata": {
        "colab": {
          "base_uri": "https://localhost:8080/"
        },
        "id": "YbjRncDJNKV1",
        "outputId": "b5b8117b-d83c-4f8f-8a2c-d8d0ade1fbd2"
      },
      "execution_count": null,
      "outputs": [
        {
          "output_type": "execute_result",
          "data": {
            "text/plain": [
              "Index(['lat', 'long'], dtype='object')"
            ]
          },
          "metadata": {},
          "execution_count": 38
        }
      ]
    }
  ]
}
